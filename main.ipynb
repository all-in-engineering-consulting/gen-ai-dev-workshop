{
 "cells": [
  {
   "cell_type": "code",
   "execution_count": 4,
   "metadata": {},
   "outputs": [],
   "source": [
    "# !pip install langchain_community\n",
    "# !pip install langchain_openai\n",
    "# !pip install pytube\n",
    "# !pip install gdown\n",
    "# !pip install yt_dlp\n",
    "# !pip install python-dotenv\n",
    "# !pip install faiss-cpu\n",
    "# !pip install fastembed"
   ]
  },
  {
   "cell_type": "code",
   "execution_count": 5,
   "metadata": {},
   "outputs": [],
   "source": [
    "from ai_agents import bemyapp_agent\n",
    "from general_functions import faiss_index\n",
    "from langchain_core.messages import HumanMessage\n",
    "from langchain_community.utilities import SQLDatabase\n",
    "import os\n",
    "from dotenv import load_dotenv\n",
    "load_dotenv(\".env\")\n",
    "\n",
    "current_agent = \"text_to_sql_agent\"\n",
    "text2sql_chat_history = []\n",
    "\n",
    "questions = {\n",
    "    \"text_to_sql_agent\": [\n",
    "        \"What was the total profit for each product in the year 2014?\",\n",
    "        \"how about 2013?\",\n",
    "        \"by country\",\n",
    "    ],\n",
    "    \"switch_to_multimodal_rag_agent\": [\n",
    "        \"I have a question about my video\",\n",
    "    ],\n",
    "    \"multimodal_rag_agent\": [\n",
    "        #  can be answered without images\n",
    "        \"What is the origin of Interactive Technical Manuals (ITMs), and how have they evolved since their creation?\",\n",
    "        \"How can ITMs benefit technicians and engineers in troubleshooting and maintaining complex equipment?\"\n",
    "        # need images to answer\n",
    "        \"How does the ITM's schematic interface enhance the understanding of complex hydraulic systems?\",\n",
    "        \"What kind of information is typically included in a component sheet within the ITM system?\",\n",
    "    ],\n",
    "    \"switch_to_recursive_rag_agent\": [\n",
    "        \"I have a question about my contracts\",\n",
    "    ],\n",
    "    \"recursive_rag_agent\": [\n",
    "        \"Which companies provide design services for us?\",\n",
    "        \"What is the cost of services of CreativeMind?\",\n",
    "        \"Give me contacts of CreativeMind\",\n",
    "    ]\n",
    "}\n",
    "\n",
    "db = SQLDatabase.from_uri(\"sqlite:///text_to_sql_example.db\")\n",
    "multimodal_rag_index = faiss_index(index_name=\"faiss_index_multimodal_rag\")\n",
    "recursive_rag_index = faiss_index(index_name=\"faiss_index_recursive_rag\")\n"
   ]
  },
  {
   "cell_type": "code",
   "execution_count": 6,
   "metadata": {},
   "outputs": [
    {
     "name": "stdout",
     "output_type": "stream",
     "text": [
      "DEBUG: DEBUG: Router execution time: 0.8089 seconds\n",
      "\n",
      "multimodal_rag_agent: (multimodal_rag_agent) Great! What is your question?\n",
      "\n",
      "\n",
      "DEBUG: DEBUG: Router execution time: 0.6781 seconds\n",
      "\n",
      "DEBUG: DEBUG: Multimodal RAG agent execution time: 2.3709 seconds\n",
      "\n",
      "multimodal_rag_agent: The ITM's schematic interface enhances the understanding of complex hydraulic systems through several key features. Firstly, the use of animated schematics allows users to visualize the flow of fluids through the hydraulic circuit, making it easier to interpret the operation of the system. The incorporation of color standards for hydraulic and pneumatic drawings further aids comprehension by intuitively indicating which lines represent pressure, flow, and other critical parameters.\n",
      "\n",
      "Additionally, the interface includes interactive elements such as hotspots on major components. When users click on these hotspots, they can access detailed component sheets that provide essential information, including part numbers, descriptions, functions, and safety information. This comprehensive data helps technicians and engineers quickly understand the role of each component and troubleshoot issues effectively.\n",
      "\n",
      "Moreover, the ability to separate schematics based on operating status allows users to see the system in different states, enhancing their understanding of how components interact under various conditions. The integration of real-time data through clickable URLs also supports monitoring and troubleshooting, making the ITM a powerful tool for understanding and managing complex hydraulic systems.\n",
      "\n",
      "\n"
     ]
    },
    {
     "ename": "KeyError",
     "evalue": "'results_transcript_string'",
     "output_type": "error",
     "traceback": [
      "\u001b[0;31m---------------------------------------------------------------------------\u001b[0m",
      "\u001b[0;31mKeyError\u001b[0m                                  Traceback (most recent call last)",
      "Cell \u001b[0;32mIn[6], line 18\u001b[0m\n\u001b[1;32m     15\u001b[0m media_files \u001b[38;5;241m=\u001b[39m media\u001b[38;5;241m.\u001b[39msplit(\u001b[38;5;124m\"\u001b[39m\u001b[38;5;124m, \u001b[39m\u001b[38;5;124m\"\u001b[39m)\n\u001b[1;32m     17\u001b[0m \u001b[38;5;28mprint\u001b[39m(\u001b[38;5;124mf\u001b[39m\u001b[38;5;124m\"\u001b[39m\u001b[38;5;132;01m{\u001b[39;00mcurrent_agent\u001b[38;5;132;01m}\u001b[39;00m\u001b[38;5;124m: \u001b[39m\u001b[38;5;132;01m{\u001b[39;00manswer\u001b[38;5;132;01m}\u001b[39;00m\u001b[38;5;124m\"\u001b[39m)\n\u001b[0;32m---> 18\u001b[0m \u001b[38;5;28mprint\u001b[39m(\u001b[38;5;124mf\u001b[39m\u001b[38;5;124m\"\u001b[39m\u001b[38;5;124mDEBUG: \u001b[39m\u001b[38;5;132;01m{\u001b[39;00m\u001b[43mresponse\u001b[49m\u001b[43m[\u001b[49m\u001b[38;5;124;43m'\u001b[39;49m\u001b[38;5;124;43mresults_transcript_string\u001b[39;49m\u001b[38;5;124;43m'\u001b[39;49m\u001b[43m]\u001b[49m\u001b[38;5;132;01m}\u001b[39;00m\u001b[38;5;124m\"\u001b[39m)\n\u001b[1;32m     19\u001b[0m \u001b[38;5;28mprint\u001b[39m(\u001b[38;5;124mf\u001b[39m\u001b[38;5;124m\"\u001b[39m\u001b[38;5;124mDEBUG: \u001b[39m\u001b[38;5;132;01m{\u001b[39;00mresponse[\u001b[38;5;124m'\u001b[39m\u001b[38;5;124mresults_media_string\u001b[39m\u001b[38;5;124m'\u001b[39m]\u001b[38;5;132;01m}\u001b[39;00m\u001b[38;5;124m\"\u001b[39m)\n\u001b[1;32m     21\u001b[0m \u001b[38;5;66;03m# Display each media file\u001b[39;00m\n",
      "\u001b[0;31mKeyError\u001b[0m: 'results_transcript_string'"
     ]
    }
   ],
   "source": [
    "while 1:\n",
    "    question = input(f\"Your message to {current_agent}: \")\n",
    "    if question == \"exit\":\n",
    "        break\n",
    "    text2sql_chat_history.append(HumanMessage(content=question))\n",
    "    response = bemyapp_agent(question, current_agent, text2sql_chat_history, multimodal_rag_index, recursive_rag_index, db)\n",
    "    current_agent = response[\"next_agent\"]\n",
    "    # Check if the answer contains media references\n",
    "    if \"MEDIA: \" in response['answer']:\n",
    "        # Split the answer and media part\n",
    "        answer, media = response['answer'].split(\"MEDIA: \")\n",
    "        # Strip any whitespace\n",
    "        media = media.strip()\n",
    "        # Split multiple media files if present\n",
    "        media_files = media.split(\", \")\n",
    "        \n",
    "        print(f\"{current_agent}: {answer}\")\n",
    "        print(f\"DEBUG: {response['results_transcript_string']}\")\n",
    "        print(f\"DEBUG: {response['results_media_string']}\")\n",
    "        \n",
    "        # Display each media file\n",
    "        for media_file in media_files:\n",
    "            media_file = media_file.replace(\".png\", \".jpeg\").strip('\"')\n",
    "            if not media_file:\n",
    "                continue\n",
    "            print(f\"DEBUG: trying to embed {media_file}\")\n",
    "            from IPython.display import Image, display\n",
    "            image_path = f\"data/for_multimodal_rag/{media_file}\"\n",
    "            try:\n",
    "                # Load and display the image\n",
    "                display(Image(filename=image_path))\n",
    "            except Exception as e:\n",
    "                print(f\"Error displaying {media_file}: {str(e)}\")\n",
    "                # If there's an error, try to display using PIL\n",
    "                try:\n",
    "                    from PIL import Image as PILImage\n",
    "                    img = PILImage.open(image_path)\n",
    "                    display(img)\n",
    "                except Exception as inner_e:\n",
    "                    print(f\"Error displaying {media_file} with PIL: {str(inner_e)}\")\n",
    "                    # If both methods fail, provide a more informative error message\n",
    "                    print(f\"The image file '{media_file}' could not be found or displayed. Please check if the file exists in the 'data/for_multimodal_rag/' directory and ensure the filename is correct.\")\n",
    "    else:\n",
    "        # If no media, just print the answer as before\n",
    "        print(f\"{current_agent}: {response['answer']}\")\n",
    "    print(\"\")\n",
    "    print(\"\")"
   ]
  },
  {
   "cell_type": "code",
   "execution_count": null,
   "metadata": {},
   "outputs": [],
   "source": []
  }
 ],
 "metadata": {
  "kernelspec": {
   "display_name": "Python 3 (ipykernel)",
   "language": "python",
   "name": "python3"
  },
  "language_info": {
   "codemirror_mode": {
    "name": "ipython",
    "version": 3
   },
   "file_extension": ".py",
   "mimetype": "text/x-python",
   "name": "python",
   "nbconvert_exporter": "python",
   "pygments_lexer": "ipython3",
   "version": "3.12.4"
  }
 },
 "nbformat": 4,
 "nbformat_minor": 4
}
